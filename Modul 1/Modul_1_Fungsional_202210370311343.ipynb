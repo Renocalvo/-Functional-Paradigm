{
  "nbformat": 4,
  "nbformat_minor": 0,
  "metadata": {
    "colab": {
      "provenance": [],
      "toc_visible": true
    },
    "kernelspec": {
      "name": "python3",
      "display_name": "Python 3"
    },
    "language_info": {
      "name": "python"
    }
  },
  "cells": [
    {
      "cell_type": "markdown",
      "source": [
        "# READ BEFORE CONTINUE\n",
        "\n",
        "- Untuk mendapatkan akses edit kalian bisa membuat copy di perangkat kalian masing-masing dengan menggunakan akun gmail masing-masing (Buka File -> Save copy in Drive"
      ],
      "metadata": {
        "id": "SxWGm8_z_X02"
      }
    },
    {
      "cell_type": "markdown",
      "source": [
        "# **Modul 1 Fungsional 2024**\n",
        "\n",
        "---\n",
        " Functional Programming using Python"
      ],
      "metadata": {
        "id": "I37BCgZzokEC"
      }
    },
    {
      "cell_type": "markdown",
      "source": [
        "Disusun oleh:\n",
        "1. Rafli Kharisma Akbar\n",
        "2. Alviya Laela Lestari\n",
        "\n",
        "Diaudit oleh:\n",
        "Fera Putri Ayu L., S.Kom., M.T.\n",
        "\n",
        "Presented by: TIM LAB-IT Universitas Muhammadiyah Malang"
      ],
      "metadata": {
        "id": "a5qPSNb1o-xS"
      }
    },
    {
      "cell_type": "markdown",
      "source": [
        "## Tujuan Praktikum"
      ],
      "metadata": {
        "id": "KOxiXuqsqp2q"
      }
    },
    {
      "cell_type": "markdown",
      "source": [
        "\n",
        "Sub-CPMK 7: Mahasiswa mampu mendesain program dengan teknik yang tepat untuk menyelesaikan masalah dengan menggunakan paradigma pemrograman fungsional (P6)\n",
        "\n"
      ],
      "metadata": {
        "id": "zWZPGZpkv9A_"
      }
    },
    {
      "cell_type": "markdown",
      "source": [
        "## Target Modul"
      ],
      "metadata": {
        "id": "rQY9Hzxgqx5T"
      }
    },
    {
      "cell_type": "markdown",
      "source": [
        "1. Menguasai konsep Function dalam Paradigma Fungsional\n",
        "2. Menguasai konsep Tipe Data Sequence pada Python\n",
        "3. Mampu mengelola fitur-fitur yang ada dalam paradigma pemrograman fungsional menggunakan Python\n"
      ],
      "metadata": {
        "id": "f5yOgwSvwAyf"
      }
    },
    {
      "cell_type": "markdown",
      "source": [
        "## Persiapan Software/Apilkasi"
      ],
      "metadata": {
        "id": "PUs4HKOQsTyI"
      }
    },
    {
      "cell_type": "markdown",
      "source": [
        "- Laptop/Komputer\n",
        "- Windows/Linux/Mac OS\n",
        "- Pycharm/Google Collab /Jupyter Notebook\n",
        "- Source Code Google Collab Modul 1\n"
      ],
      "metadata": {
        "id": "LGFeu9S4slaO"
      }
    },
    {
      "cell_type": "markdown",
      "source": [
        "# Welcome To Google Collab\n",
        "\n",
        "\n",
        "---\n",
        "\n"
      ],
      "metadata": {
        "id": "JafcRsvPnpt-"
      }
    },
    {
      "cell_type": "markdown",
      "source": [
        "<p align=\"justify\"> Welcome to this functional programming module! Kita akan memulai perjalanan belajar ini bersama menggunakan Google Collab, lingkungan interaktif dan kolaboratif yang memungkinkan kita untuk menulis dan menjalankan kode Python langsung di browser. Collab adalah layanan notebook Jupyter yang dihosting yang tidak memerlukan penyiapan untuk digunakan, sekaligus memberikan akses gratis ke sumber daya komputasi termasuk GPU. Oleh karena itu Collab sangat direkomendasikan untuk kalian yang memiliki komputer / laptop dengan spesifikasi yang rendah. Untuk mengaksesnya pun cukup mudah seperti menggunakan produk Google pada umumnya, kalian hanya perlu login dan membuat notebook baru."
      ],
      "metadata": {
        "id": "TA8BReJAn87G"
      }
    },
    {
      "cell_type": "markdown",
      "source": [
        "Untuk materi modul (teori lengkap khususnya topik 1&2) bisa kalian baca dan pelajari pada dokumen modul 1(pdf). Adapun untuk pembelajaran menggunakan Google Collab disini kita akan langsung menuju ke practical topic tentang python yang dilengkapi dengan code yang bisa langsung kalian jalankan disini. Selamat belajar dan mencoba lingkungan interaktif dan kolaboratif disini kali ini."
      ],
      "metadata": {
        "id": "Etf6f1-cypCU"
      }
    },
    {
      "cell_type": "markdown",
      "source": [
        "# 3. Lets Talk About Python"
      ],
      "metadata": {
        "id": "oBulfUEN1D0s"
      }
    },
    {
      "cell_type": "markdown",
      "source": [
        "<p align=\"justify\">\n",
        "Python sendiri merupakan bahasa pemrograman yang termasuk ke dalam kategori high level programming language. Pada dasarnya Python didesain dengan fokus pada keterbacaan kode dan sintaks yang mudah dipahami, sehingga memudahkan pengembang dalam menulis dan memelihara program. Pembahasan dan Pengenalan tentang python akan dijelaskan poin-poin sebagai berikut :"
      ],
      "metadata": {
        "id": "qchm5dxn2jDo"
      }
    },
    {
      "cell_type": "markdown",
      "source": [
        "## 3.1 Tipe Data dan Variabel Dalam Python\n",
        "\n",
        "<p align=\"justify\">Sebelum kita mulai praktik, kita samakan dulu frekuensi pemahaman kita."
      ],
      "metadata": {
        "id": "0sbYRFBN82ce"
      }
    },
    {
      "cell_type": "markdown",
      "source": [
        "### 3.1.1 Apa itu Variabel Dalam Python\n",
        "\n",
        "<p align=\"justify\">\n",
        "Anggap saja variabel adalah sebuah keranjang, tempat di mana kita bisa memasukkan sesuatu di dalamnya, yaitu data. Di python, kita bisa memasukkan tipe data apa saja ke dalam keranjang (variabel) tanpa harus mendefinisikan tipe datanya terlebih dahulu (hal ini berbeda dengan beberapa bahasa pemrograman lain yang mengharuskan kita mendefinisikan tipe data terlebih dahulu). Sebuah variabel dapat berganti tipe data sedinamis mungkin. Perhatikan dan jalankan baris kode di bawah agar kalian lebih memahami penggunaan variabel pada python!\n"
      ],
      "metadata": {
        "id": "v3mu528_8bHG"
      }
    },
    {
      "cell_type": "code",
      "source": [
        "var = 212\n",
        "print(var)\n",
        "print(type(var))\n",
        "\n",
        "# redefine variable\n",
        "var = \"Variable baru coy\"\n",
        "print(var)\n",
        "print(type(var))"
      ],
      "metadata": {
        "id": "GriRh2pA8h0P",
        "colab": {
          "base_uri": "https://localhost:8080/"
        },
        "outputId": "42c5d06b-db60-4767-c088-95d886509981"
      },
      "execution_count": null,
      "outputs": [
        {
          "output_type": "stream",
          "name": "stdout",
          "text": [
            "212\n",
            "<class 'int'>\n",
            "Variable baru coy\n",
            "<class 'str'>\n"
          ]
        }
      ]
    },
    {
      "cell_type": "markdown",
      "source": [
        "### 3.1.2 Bagaimana dengan Tipe Data dalam Python?\n",
        "\n"
      ],
      "metadata": {
        "id": "3H1IMVvf-CS0"
      }
    },
    {
      "cell_type": "markdown",
      "source": [
        "<p align=\"justify\">\n",
        "Tipe data –sesuai namanya– adalah jenis dari suatu data. Setiap data memiliki nilai, dan setiap nilai memiliki jenis. Memahami tipe data di Python adalah aspek dasar dalam pemrograman, karena dapat membantu kita mengenali jenis data yang digunakan, ukurannya, serta fungsi-fungsi yang terkait.\n",
        "Pengetahuan tentang tipe data ini dapat membuat proses pengkodean lebih efisien, karena tipe data yang spesifik menentukan nilai yang dapat kita tetapkan dan operasi yang bisa kita lakukan. Python sendiri mempunyai tipe data yang cukup unik bila kita bandingkan dengan bahasa pemrograman yang lain. Diantaranya adalah sebagai berikut :\n",
        "\n",
        "\n",
        "\n",
        "![tipe data.png](data:image/png;base64,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)\n",
        "\n",
        "Mari kita bahas lebih lanjut untuk setiap tipe data yang ada di python, check this out!"
      ],
      "metadata": {
        "id": "Dh7_QOurXzgl"
      }
    },
    {
      "cell_type": "markdown",
      "source": [
        "#### A. Text Type"
      ],
      "metadata": {
        "id": "nAa41nWt-Hi_"
      }
    },
    {
      "cell_type": "markdown",
      "source": [
        "##### **a. String**\n",
        "\n",
        "<p align=\"justify\">Python tidak memiliki tipe char spesifik seperti di beberapa bahasa pemrograman lain seperti C atau Java. Di Python, satu karakter adalah string dengan length satu."
      ],
      "metadata": {
        "id": "ZeVQQyWD-mpZ"
      }
    },
    {
      "cell_type": "code",
      "execution_count": null,
      "metadata": {
        "id": "6Uxz6U55v3b7",
        "colab": {
          "base_uri": "https://localhost:8080/"
        },
        "outputId": "697b7ed8-d7d5-42a1-caa7-67ad5cd818ac"
      },
      "outputs": [
        {
          "output_type": "stream",
          "name": "stdout",
          "text": [
            "A\n",
            "<class 'str'>\n"
          ]
        }
      ],
      "source": [
        "contoh_str = 'A'\n",
        "print(contoh_str)\n",
        "print(type(contoh_str))"
      ]
    },
    {
      "cell_type": "markdown",
      "source": [
        "<p align=\"justify\">\n",
        "Jika kita melihat code diatas ketika kita mencoba untuk membungkus menggunakan type maka output yang dihasilkan adalah ‘str’ atau string. Mengapa output menunjukkan <class> di awal ketika ingin mengetahui tipe data? Karena dalam python semua data dianggap sebagai objek, termasuk contoh diatas yang menyatakan bahwa A merupakan objek dari kelas ‘str’."
      ],
      "metadata": {
        "id": "6BI13C7Q9kTy"
      }
    },
    {
      "cell_type": "markdown",
      "source": [
        "##### **b. Concat String**\n",
        "\n",
        "Di bawah ini merupakan contoh concat atau penggabungan 2 string dalam variabel yang berbeda ke dalam 1 variabel."
      ],
      "metadata": {
        "id": "Cbry9LiSD-s7"
      }
    },
    {
      "cell_type": "code",
      "source": [
        "kata = \"I love you\"\n",
        "kata2 = \", and you love me back ❤️\"\n",
        "\n",
        "concat = kata + kata2\n",
        "# contoh concat\n",
        "print(concat)"
      ],
      "metadata": {
        "id": "ztytZnRs8hrO",
        "colab": {
          "base_uri": "https://localhost:8080/"
        },
        "outputId": "1b2bc13a-12a9-430a-cd61-90852e5480ef"
      },
      "execution_count": null,
      "outputs": [
        {
          "output_type": "stream",
          "name": "stdout",
          "text": [
            "I love you, and you love me back ❤️\n"
          ]
        }
      ]
    },
    {
      "cell_type": "markdown",
      "source": [
        "#### B. Numeric Type\n",
        "\n",
        "Berikut merupakan beberapa contoh dari tipe data numeric yang ada di python.\n"
      ],
      "metadata": {
        "id": "VEg7_QXe-buJ"
      }
    },
    {
      "cell_type": "markdown",
      "source": [
        "##### **a. Int**\n",
        "\n"
      ],
      "metadata": {
        "id": "6XBGDAYl-eyl"
      }
    },
    {
      "cell_type": "code",
      "source": [
        "contoh_int = 10\n",
        "print(type(contoh_int))\n"
      ],
      "metadata": {
        "colab": {
          "base_uri": "https://localhost:8080/"
        },
        "id": "4HlYE0UXyco6",
        "outputId": "fb65f1fa-d0d5-4f10-ebdc-4069f1903a6b"
      },
      "execution_count": null,
      "outputs": [
        {
          "output_type": "stream",
          "name": "stdout",
          "text": [
            "<class 'int'>\n"
          ]
        }
      ]
    },
    {
      "cell_type": "markdown",
      "source": [
        "<p align=\"justify\">Seperti pada bahasa pemrograman pada umumnya tipe data int merepresentasikan bilangan bulat (integer). Beberapa bahasa pemrograman seperti C/C++ atau java memiliki tipe data dengan ukuran yang berbeda seperti short untuk bilangan bulat dengan ukuran lebih kecil dari int, dan long untuk bilangan bulat dengan ukuran lebih besar dari int. Namun, pada Python, ukuran tipe data int akan disesuaikan secara dinamis berdasarkan nilai bilangan yang kita berikan. Kita bisa menggunakan perintah sebagai berikut untuk mengeceknya:"
      ],
      "metadata": {
        "id": "uUj88CZLY-Ww"
      }
    },
    {
      "cell_type": "code",
      "source": [
        "import sys\n",
        "print(sys.getsizeof(1))\n",
        "print(sys.getsizeof(12345234525232523))"
      ],
      "metadata": {
        "colab": {
          "base_uri": "https://localhost:8080/"
        },
        "id": "FApLpoil_26Q",
        "outputId": "a343e96c-e004-48bb-9b55-ba128312def7"
      },
      "execution_count": null,
      "outputs": [
        {
          "output_type": "stream",
          "name": "stdout",
          "text": [
            "28\n",
            "32\n"
          ]
        }
      ]
    },
    {
      "cell_type": "markdown",
      "source": [
        "<p align=\"justify\">Semakin besar value dari sebuah int maka jumlah byte juga semakin besar, sesuai dengan kebutuhan memori dari value tersebut. For your information, berikut sedikit keterangan tentang size/ukuran suatu penyimpanan data di python 3.\n",
        "\n",
        "![Screenshot 2024-07-24 225326.png](data:image/png;base64,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)"
      ],
      "metadata": {
        "id": "yWBOJCFpZCtx"
      }
    },
    {
      "cell_type": "markdown",
      "source": [
        "##### **b. Float**\n",
        "\n",
        "<p align=\"justify\"> Di Python, tidak ada tipe data double yang terpisah seperti di beberapa bahasa pemrograman lain (misalnya, C atau Java). Sebaliknya, Python menggunakan tipe data float untuk merepresentasikan bilangan desimal."
      ],
      "metadata": {
        "id": "lLZ0fyQCCc0w"
      }
    },
    {
      "cell_type": "code",
      "source": [
        "i = 42\n",
        "s = \"3.14159\"\n",
        "print(float(i))\n",
        "print(float(s))"
      ],
      "metadata": {
        "colab": {
          "base_uri": "https://localhost:8080/"
        },
        "id": "pt5jManbCfiA",
        "outputId": "020740ba-cbdb-432f-958e-7757958c6cbf"
      },
      "execution_count": null,
      "outputs": [
        {
          "output_type": "stream",
          "name": "stdout",
          "text": [
            "42.0\n",
            "3.14159\n"
          ]
        }
      ]
    },
    {
      "cell_type": "markdown",
      "source": [
        "##### **c. Complex**"
      ],
      "metadata": {
        "id": "6V8EVH1HCxRB"
      }
    },
    {
      "cell_type": "markdown",
      "source": [
        "<p align=\"justify\"> Python memiliki tipe data complex untuk merepresentasikan bilangan kompleks. Bilangan kompleks terdiri dari bagian real dan bagian imajiner, yang masing-masing adalah bilangan float. Di Python, Anda bisa membuat bilangan kompleks menggunakan notasi a + bj, di mana a adalah bagian real dan b adalah bagian imajiner"
      ],
      "metadata": {
        "id": "Et4E10KxZu1C"
      }
    },
    {
      "cell_type": "code",
      "source": [
        "z1 = 2 + 3j\n",
        "z2 = 1 - 1j\n",
        "print(z1 + z2)\n",
        "print(z1 - z2)\n",
        "print(z1 * z2)\n",
        "print(z1 / z2)\n"
      ],
      "metadata": {
        "colab": {
          "base_uri": "https://localhost:8080/"
        },
        "id": "ZHCIPWS3ZYRG",
        "outputId": "b675c5fd-d475-4801-8548-75c5869eef8b"
      },
      "execution_count": null,
      "outputs": [
        {
          "output_type": "stream",
          "name": "stdout",
          "text": [
            "(3+2j)\n",
            "(1+4j)\n",
            "(5+1j)\n",
            "(-0.5+2.5j)\n"
          ]
        }
      ]
    },
    {
      "cell_type": "markdown",
      "source": [
        "\n",
        "#### C. Sequence Type\n",
        "\n",
        "<p align=\"justify\"> Sequence adalah kumpulan nilai yang diakses melalui indeks dan memiliki beberapa tipe data utama, seperti array. Namun, di Python, tipe data sequence sedikit berbeda dari array pada umumnya. Data sequence lebih dinamis dibandingkan array, kita bisa menambahkan elemen sebanyak yang kita inginkan tanpa batasan ukuran seperti pada array. Selain itu, sequence juga dapat menyimpan elemen dengan tipe data yang berbeda. Mari kita pelajari beberapa jenis sequence berikut ini:"
      ],
      "metadata": {
        "id": "S5NjQUF9DK75"
      }
    },
    {
      "cell_type": "markdown",
      "source": [
        "##### **a. List**\n",
        "\n",
        "\n",
        "<p align=\"justify\"> List dalam Python adalah salah satu tipe data sequence yang paling fleksibel dan sering digunakan. Ini adalah kumpulan elemen yang berurutan (ter-index) dan dapat diubah (mutable). Berikut adalah beberapa poin penting tentang list dalam Python:"
      ],
      "metadata": {
        "id": "S6pBbPDDDQBO"
      }
    },
    {
      "cell_type": "markdown",
      "source": [
        "1) *Mutable* (Dapat diubah)\n",
        "\n",
        "Kita tetap bisa melakukan perubahan pada data dalam list karena sifat dari list yang dapat diubah/mutable"
      ],
      "metadata": {
        "id": "oIsTYU0Fc-gh"
      }
    },
    {
      "cell_type": "code",
      "source": [
        "cth_list = [1 ,2 ,3]\n",
        "cth_list[0] = 10\n",
        "cth_list.append(4)\n",
        "\n",
        "print(cth_list)"
      ],
      "metadata": {
        "colab": {
          "base_uri": "https://localhost:8080/"
        },
        "id": "u74Fy_dGKWzC",
        "outputId": "9b9a4e80-9f3f-4756-fd00-8030f9ee6e0e"
      },
      "execution_count": null,
      "outputs": [
        {
          "output_type": "stream",
          "name": "stdout",
          "text": [
            "[10, 2, 3, 4]\n"
          ]
        }
      ]
    },
    {
      "cell_type": "markdown",
      "source": [
        "2) *Ordered* (Berurutan)\n",
        "\n",
        "Maksud dari berurutan disini adalah bahwa untuk mengakses data dalam list akan dimulai berurutan sesuai dengan urutan indexnya."
      ],
      "metadata": {
        "id": "MBFrr1Vadwmg"
      }
    },
    {
      "cell_type": "code",
      "source": [
        "cth_list = [1, 2, 3]\n",
        "print(cth_list[0])\n",
        "print(cth_list[1])"
      ],
      "metadata": {
        "colab": {
          "base_uri": "https://localhost:8080/"
        },
        "id": "jwIxj3x4eevy",
        "outputId": "e24ccc63-87e1-4001-b1f4-561bc401162f"
      },
      "execution_count": null,
      "outputs": [
        {
          "output_type": "stream",
          "name": "stdout",
          "text": [
            "1\n",
            "2\n"
          ]
        }
      ]
    },
    {
      "cell_type": "markdown",
      "source": [
        "3) *Heterogeneous* (Banyak Tipe Data)\n",
        "\n",
        "List tidak kaku yang berarti List mampu menyimpan value dengan bermacam-macam tipe data seperti contoh di bawah ini :"
      ],
      "metadata": {
        "id": "Wf_JaD2Hd47e"
      }
    },
    {
      "cell_type": "code",
      "source": [
        "cth_list = [1, \"hello\", 3.14, True]\n",
        "\n",
        "print(cth_list)"
      ],
      "metadata": {
        "colab": {
          "base_uri": "https://localhost:8080/"
        },
        "id": "G9mtiufdeX7e",
        "outputId": "6ffc9ff4-3d0f-4c4c-9e8d-d05d8601f031"
      },
      "execution_count": null,
      "outputs": [
        {
          "output_type": "stream",
          "name": "stdout",
          "text": [
            "[1, 'hello', 3.14, True]\n"
          ]
        }
      ]
    },
    {
      "cell_type": "markdown",
      "source": [
        "4) *Allow Duplicates*\n",
        "\n",
        "List memperbolehkan data yang memiliki value sama karena List dipengaruhi oleh index.\n"
      ],
      "metadata": {
        "id": "HGVJKst8eBB4"
      }
    },
    {
      "cell_type": "code",
      "source": [
        "cth_list = [\"apple\", \"banana\", \"cherry\", \"apple\", \"cherry\"]\n",
        "print(cth_list)"
      ],
      "metadata": {
        "colab": {
          "base_uri": "https://localhost:8080/"
        },
        "id": "QXP6buz2NBnh",
        "outputId": "b3df5f99-f2e2-45d8-f299-1c6a67f7ddbf"
      },
      "execution_count": null,
      "outputs": [
        {
          "output_type": "stream",
          "name": "stdout",
          "text": [
            "['apple', 'banana', 'cherry', 'apple', 'cherry']\n"
          ]
        }
      ]
    },
    {
      "cell_type": "markdown",
      "source": [
        "<p align=\"justify\"> Masih ada beberapa ciri yang dimiliki oleh List seperti <a href=\"https://www.freecodecamp.org/news/slicing-and-indexing-in-python/\">indexing</a> indexin <a href=\"https://www.freecodecamp.org/news/slicing-and-indexing-in-python/\"> slicing</a>, Dynamic size dsb. List juga memiliki method bawaan dari python yang memudahkan kita dalam mengoperasikan data List, silahkan mengunjungi tautan <a href=\"https://belajarpython.com/tutorial/list-python/\"> berikut </a> untuk lebih detailnya."
      ],
      "metadata": {
        "id": "QnC3P6PJg8ef"
      }
    },
    {
      "cell_type": "markdown",
      "source": [
        "##### **b. Tuple**\n",
        "\n",
        "<p align=\"justify\"> Tuple adalah urutan objek dalam Python yang bersifat tidak dapat diubah (immutable). Tuple serupa dengan list, namun perbedaan utamanya adalah elemen dalam tuple tidak dapat diubah setelah didefinisikan. Tuple menggunakan tanda kurung ‘()’, sedangkan list menggunakan tanda kurung siku ‘[]’. Membuat tuple sangat mudah; kita hanya perlu menuliskan nilai-nilai yang dipisahkan oleh koma. Di bawah ini pengelompokkan ciri dari sebuah tuple :"
      ],
      "metadata": {
        "id": "sLTesOHKDTAF"
      }
    },
    {
      "cell_type": "markdown",
      "source": [
        "!) *Immutable* (Tidak dapat diubah)\n",
        "\n",
        "Ketika tuple sudah berhasil dibuat, kita tidak bisa mengubah, menambah atau menghapus elemen-elemen di dalamnya."
      ],
      "metadata": {
        "id": "RuxO4dqGfFRa"
      }
    },
    {
      "cell_type": "code",
      "source": [
        "cth_tuple = (1, 2, 3)\n",
        "cth_tuple[0] = 10 # Ini akan error"
      ],
      "metadata": {
        "colab": {
          "base_uri": "https://localhost:8080/",
          "height": 158
        },
        "id": "2LdP4UTBeKJB",
        "outputId": "4a0add19-fb8b-4655-c153-0eda8bc886d6"
      },
      "execution_count": null,
      "outputs": [
        {
          "output_type": "error",
          "ename": "TypeError",
          "evalue": "'tuple' object does not support item assignment",
          "traceback": [
            "\u001b[0;31m---------------------------------------------------------------------------\u001b[0m",
            "\u001b[0;31mTypeError\u001b[0m                                 Traceback (most recent call last)",
            "\u001b[0;32m<ipython-input-6-7cc443d4c25f>\u001b[0m in \u001b[0;36m<cell line: 2>\u001b[0;34m()\u001b[0m\n\u001b[1;32m      1\u001b[0m \u001b[0mcth_tuple\u001b[0m \u001b[0;34m=\u001b[0m \u001b[0;34m(\u001b[0m\u001b[0;36m1\u001b[0m\u001b[0;34m,\u001b[0m \u001b[0;36m2\u001b[0m\u001b[0;34m,\u001b[0m \u001b[0;36m3\u001b[0m\u001b[0;34m)\u001b[0m\u001b[0;34m\u001b[0m\u001b[0;34m\u001b[0m\u001b[0m\n\u001b[0;32m----> 2\u001b[0;31m \u001b[0mcth_tuple\u001b[0m\u001b[0;34m[\u001b[0m\u001b[0;36m0\u001b[0m\u001b[0;34m]\u001b[0m \u001b[0;34m=\u001b[0m \u001b[0;36m10\u001b[0m \u001b[0;31m# Ini akan error\u001b[0m\u001b[0;34m\u001b[0m\u001b[0;34m\u001b[0m\u001b[0m\n\u001b[0m",
            "\u001b[0;31mTypeError\u001b[0m: 'tuple' object does not support item assignment"
          ]
        }
      ]
    },
    {
      "cell_type": "markdown",
      "source": [
        "2) *Heterogeneous* (Banyak Tipe Data)\n",
        "\n",
        "Tuple mengizinkan untuk memiliki data yang berbeda tipe seperti List."
      ],
      "metadata": {
        "id": "YMwNxL0-fZwM"
      }
    },
    {
      "cell_type": "code",
      "source": [
        "cth_tuple = (\"abc\", 34, True, 40, \"Male\")\n",
        "print(cth_tuple)"
      ],
      "metadata": {
        "colab": {
          "base_uri": "https://localhost:8080/"
        },
        "id": "O2_5GTFfhQQk",
        "outputId": "5178117b-a1a0-4abc-cede-a052ef594333"
      },
      "execution_count": null,
      "outputs": [
        {
          "output_type": "stream",
          "name": "stdout",
          "text": [
            "('abc', 34, True, 40, 'Male')\n"
          ]
        }
      ]
    },
    {
      "cell_type": "markdown",
      "source": [
        "3) *Ordered* (Berurutan)\n",
        "\n",
        "Tuple bersifat ordered seperti List yaitu untuk mengaksesnya kita bisa menggunakan index masing-masing data.\n"
      ],
      "metadata": {
        "id": "UFELxLZUg4Ay"
      }
    },
    {
      "cell_type": "code",
      "source": [
        "cth_tuple = (10, 20, 30, 40, 50)\n",
        "print(cth_tuple[0])\n",
        "print(cth_tuple[1])\n",
        "print(cth_tuple[-1])\n",
        "print(cth_tuple[-2])"
      ],
      "metadata": {
        "colab": {
          "base_uri": "https://localhost:8080/"
        },
        "id": "_Y3WuNMghmVy",
        "outputId": "10cbb039-da32-4cb0-9cd4-9c7aa70d5fb2"
      },
      "execution_count": null,
      "outputs": [
        {
          "output_type": "stream",
          "name": "stdout",
          "text": [
            "10\n",
            "20\n",
            "50\n",
            "40\n"
          ]
        }
      ]
    },
    {
      "cell_type": "markdown",
      "source": [
        "Untuk mengetahui lebih dalam mengenai tuple, silahkan membuka tautan [berikut](https://www.petanikode.com/python-tuple/)."
      ],
      "metadata": {
        "id": "ptmALpKBh4hc"
      }
    },
    {
      "cell_type": "markdown",
      "source": [
        "##### **c. Range**"
      ],
      "metadata": {
        "id": "adYSRLEyDXdY"
      }
    },
    {
      "cell_type": "markdown",
      "source": [
        "<p align=\"justify\">Range dalam Python adalah tipe data yang digunakan untuk menghasilkan urutan angka. range biasanya digunakan dalam perulangan (loop) untuk mengulang sejumlah langkah tertentu. range menghasilkan urutan angka yang teratur sesuai dengan parameter yang diberikan, namun tidak menyimpan semua angka dalam memori, melainkan menghasilkan angka satu per satu saat dibutuhkan. Ciri - ciri range dapat kita simak dicontoh berikut.\n"
      ],
      "metadata": {
        "id": "-gr65t54DGIq"
      }
    },
    {
      "cell_type": "markdown",
      "source": [
        "1)  Immutable\n",
        "<p align=\"justify\">\n",
        "Sama seperti tuple, setelah didefinisikan, objek range tidak dapat diubah. Kita tidak bisa menambah, menghapus, atau mengubah elemen-elemen dalam range.\n"
      ],
      "metadata": {
        "id": "vK74nTjY_dW_"
      }
    },
    {
      "cell_type": "markdown",
      "source": [
        "2) Indexing dan Slicing\n",
        "\n",
        "Kita bisa mengakses elemen-elemen tertentu dalam range menggunakan indeks dan slicing, mirip dengan list. Coba perhatikan dan jalankan kode berikut:"
      ],
      "metadata": {
        "id": "j1Qt9Fg_BA-b"
      }
    },
    {
      "cell_type": "code",
      "source": [
        "r = range(10)\n",
        "print(r[2])\n",
        "print(r[2:5])"
      ],
      "metadata": {
        "id": "uBZO5c9gBGQJ"
      },
      "execution_count": null,
      "outputs": []
    },
    {
      "cell_type": "markdown",
      "source": [
        "3) Iteration\n",
        "\n",
        "Objek range dapat diiterasi menggunakan loop for, yang sangat berguna untuk mengulangi blok kode dengan jumlah langkah yang ditentukan.\n"
      ],
      "metadata": {
        "id": "JKE0i4OjA_vv"
      }
    },
    {
      "cell_type": "code",
      "source": [
        "for i in range(5):\n",
        "  print(i)\n"
      ],
      "metadata": {
        "id": "SzvMQh4UCE8A"
      },
      "execution_count": null,
      "outputs": []
    },
    {
      "cell_type": "markdown",
      "source": [
        "#### D. Mapping Type"
      ],
      "metadata": {
        "id": "L1CUxZS2DcNr"
      }
    },
    {
      "cell_type": "markdown",
      "source": [
        "##### **a. Dictionary**\n",
        "Dalam Python, kamus atau dictionary adalah tipe data yang digunakan untuk menyimpan nilai-nilai dalam format pasangan kunci-nilai (key-value). Dictionary sangat berguna ketika Anda ingin mengasosiasikan kunci unik dengan nilai tertentu. Berikut merupakan ciri dari dictionary :\n",
        "\n",
        "- Kunci tidak boleh duplikat\n",
        "- Changeable (dapat diubah)\n",
        "- Pengaksesan menggunakan Key\n",
        "\n",
        "Berikut adalah contoh deklarasi tipe data dict:\n",
        "\n"
      ],
      "metadata": {
        "id": "Z8Tby842DkjA"
      }
    },
    {
      "cell_type": "code",
      "source": [
        "thisdict = {\n",
        "    \"Name\" : \"Widodo\",\n",
        "    \"NIM\" : \"202110370311402\",\n",
        "    \"Semester\" : 7\n",
        "}\n",
        "\n",
        "print(thisdict)"
      ],
      "metadata": {
        "colab": {
          "base_uri": "https://localhost:8080/"
        },
        "id": "eRws57HDim-N",
        "outputId": "d166358f-da61-497a-92c2-d7f36cfbd95e"
      },
      "execution_count": null,
      "outputs": [
        {
          "output_type": "stream",
          "name": "stdout",
          "text": [
            "{'Name': 'Widodo', 'NIM': '202110370311402', 'Semester': 7}\n"
          ]
        }
      ]
    },
    {
      "cell_type": "markdown",
      "source": [
        "dan beberapa operasi yang bisa dilakukan dengan tipe data dictionary:"
      ],
      "metadata": {
        "id": "Vrji241Yi5GA"
      }
    },
    {
      "cell_type": "code",
      "source": [
        "thisdict = {\n",
        "  \"Name\": \"Widodo\",\n",
        "  \"NIM\" : \"202110370311402\",\n",
        "  \"Semester\" : 7\n",
        "}\n",
        "\n",
        "# contoh changeable and nested dictionary\n",
        "thisdict = {\n",
        "  \"Name\": \"Widodo\",\n",
        "  \"NIM\" : \"202110370311402\",\n",
        "  \"Semester\" : 7,\n",
        "  \"Teman\" : {\n",
        "      \"Nama\" : \"Sutadi\",\n",
        "      \"Umur\" : 55\n",
        "  },\n",
        "  \"Identitas Ortu\": {\n",
        "      \"Nama\": \"Rian Firjatullah\",\n",
        "      \"Umur\": 60\n",
        "  }\n",
        "}\n",
        "\n",
        "# casting objek ke dalam variable\n",
        "var = thisdict[\"Identitas Ortu\"][\"Nama\"]\n",
        "\n",
        "print(\"Temanku adalah\", thisdict[\"Teman\"][\"Nama\"])\n",
        "print(\"Nama orang tua adalah\", var)\n",
        "print(thisdict)\n"
      ],
      "metadata": {
        "id": "ZZNttKxGDLiC",
        "colab": {
          "base_uri": "https://localhost:8080/"
        },
        "outputId": "6cef1441-41bd-43b9-d760-651fbe4712a8"
      },
      "execution_count": null,
      "outputs": [
        {
          "output_type": "stream",
          "name": "stdout",
          "text": [
            "Temanku adalah Sutadi\n",
            "Nama orang tua adalah Rian Firjatullah\n",
            "{'Name': 'Widodo', 'NIM': '202110370311402', 'Semester': 7, 'Teman': {'Nama': 'Sutadi', 'Umur': 55}, 'Identitas Ortu': {'Nama': 'Rian Firjatullah', 'Umur': 60}}\n"
          ]
        }
      ]
    },
    {
      "cell_type": "code",
      "source": [
        "account = {\"NIM\": \"202110370311402\",\n",
        "           \"PIC\": \"88337755\"}\n",
        "\n",
        "def login(source, nim, pic):\n",
        "    if nim == source[\"NIM\"] and pic == source[\"PIC\"]:\n",
        "        return \"Selamat datang admin\"\n",
        "    else:\n",
        "        return \"benda tak dikenal\"\n",
        "\n",
        "nim = input(\"Nim : \")\n",
        "pic = input(\"PIC : \")\n",
        "\n",
        "login(account, nim, pic)\n"
      ],
      "metadata": {
        "colab": {
          "base_uri": "https://localhost:8080/",
          "height": 70
        },
        "id": "ATgXsxMQfRCd",
        "outputId": "0844f029-c350-4807-c33f-b1626d21cd1e"
      },
      "execution_count": null,
      "outputs": [
        {
          "name": "stdout",
          "output_type": "stream",
          "text": [
            "Nim : AKFNAKNFA\\\n",
            "PIC : AFNKAFNA\n"
          ]
        },
        {
          "output_type": "execute_result",
          "data": {
            "text/plain": [
              "'benda tak dikenal'"
            ],
            "application/vnd.google.colaboratory.intrinsic+json": {
              "type": "string"
            }
          },
          "metadata": {},
          "execution_count": 8
        }
      ]
    },
    {
      "cell_type": "markdown",
      "source": [
        "#### E. Boolean Type\n",
        "\n",
        "Menyatakan benar True yang bernilai 1, atau salah False yang bernilai 0\n"
      ],
      "metadata": {
        "id": "4bUNdCx6Dvlm"
      }
    },
    {
      "cell_type": "code",
      "source": [
        "a = 5 > 6\n",
        "b = 6 > 5\n",
        "print(type(a))\n",
        "print(a, b)"
      ],
      "metadata": {
        "id": "w_i8m_4G3DuB"
      },
      "execution_count": null,
      "outputs": []
    },
    {
      "cell_type": "markdown",
      "source": [
        "### **3.1.3 Casting Tipe Data dalam Python**"
      ],
      "metadata": {
        "id": "wiAPxLXqE0uz"
      }
    },
    {
      "cell_type": "markdown",
      "source": [
        "Mari kita simak beberapa contoh dari casting di bawah ini :"
      ],
      "metadata": {
        "id": "bTf4A3WplWdc"
      }
    },
    {
      "cell_type": "code",
      "source": [
        "x = 1\n",
        "y = 10.657\n",
        "z = [10,9,8,7]\n",
        "print(type(x))\n",
        "print(type(y), \" : \" , y)\n",
        "print(type(z))\n",
        "\n",
        "# Casting variable x ke dalam str\n",
        "x = str(x)\n",
        "\n",
        "# Casting variable y ke dalam int\n",
        "y = int(y)\n",
        "\n",
        "# Casting variable z ke dalam tuple\n",
        "z = tuple(z)\n",
        "\n",
        "print(type(x))\n",
        "print(type(y), \" : \", y)\n",
        "print(type(z))\n",
        "\n"
      ],
      "metadata": {
        "colab": {
          "base_uri": "https://localhost:8080/"
        },
        "id": "0H79x9OOelHG",
        "outputId": "dac989e2-2806-481f-a480-ad1a43215952"
      },
      "execution_count": null,
      "outputs": [
        {
          "output_type": "stream",
          "name": "stdout",
          "text": [
            "<class 'int'>\n",
            "<class 'float'>  :  10.657\n",
            "<class 'list'>\n",
            "<class 'str'>\n",
            "<class 'int'>  :  10\n",
            "<class 'tuple'>\n"
          ]
        }
      ]
    },
    {
      "cell_type": "markdown",
      "source": [
        "## 3.2 Percabangan Dalam Python\n",
        "\n",
        "<p align=\"justify\"> Sama seperti bahasa pemrograman lainnya, python juga memiliki percabangan seperti if, else, elseif. Namun, python tidak memiliki percabangan switch case. Penerapan percabangan ini mirip dengan bahasa pemrograman yang telah kalian pelajari. Untuk lebih memahaminya, kalian bisa menjalankan baris program dibawah ini :"
      ],
      "metadata": {
        "id": "2v3pWlqdE9bU"
      }
    },
    {
      "cell_type": "code",
      "source": [
        "# if condition\n",
        "\n",
        "amIHappy = \"Yes\"\n",
        "\n",
        "if amIHappy == \"Yes\":\n",
        "  print(\"Yeepe i hope you always happy!\")"
      ],
      "metadata": {
        "id": "Pg18hBNMsFye"
      },
      "execution_count": null,
      "outputs": []
    },
    {
      "cell_type": "code",
      "source": [
        "# if else condition\n",
        "\n",
        "areYouHappy = \"No\"\n",
        "\n",
        "if areYouHappy == \"Yes\" or areYouHappy == \"yes\":\n",
        "  print(\"Yeepe i hope you always happy!\")\n",
        "else:\n",
        "  print(\"Fa inna ma'al usri yusro\")"
      ],
      "metadata": {
        "id": "Hq419c4NtOyU"
      },
      "execution_count": null,
      "outputs": []
    },
    {
      "cell_type": "code",
      "source": [
        "# if elseif else condition\n",
        "\n",
        "areYouOkay = \"IDK\"\n",
        "\n",
        "if areYouOkay == \"Yes\":\n",
        "  print(\"Yeepe i hope you always happy!\")\n",
        "elif areYouOkay == \"IDK\":\n",
        "  print(\"You have something say to me?\")\n",
        "else:\n",
        "  print(\"Fa inna ma'al usri yusro\")"
      ],
      "metadata": {
        "id": "w1rFM3n5u48S"
      },
      "execution_count": null,
      "outputs": []
    },
    {
      "cell_type": "markdown",
      "source": [
        "## 3.3 Perulangan Dalam Python"
      ],
      "metadata": {
        "id": "0CPq2GemFEZ8"
      }
    },
    {
      "cell_type": "markdown",
      "source": [
        "Pada python, kita bisa melakukan perulangan dengan beberapa cara diantaranya:"
      ],
      "metadata": {
        "id": "0erFRNWtEHen"
      }
    },
    {
      "cell_type": "markdown",
      "source": [
        "### **3.3.1 Perulangan For**\n",
        "\n",
        "\n",
        "<p align=\"justify\">\n",
        "Perulangan for pada python adalah perintah yang digunakan <b> untuk melakukan iterasi</b> dari sebuah nilai <b> sequence </b> atau data koleksi seperti List, Tuple, String, range dan lainnya. For pada python memiliki perilaku yang berbeda dengan for pada kebanyakan bahasa pemrograman yang lain, karena pada python ia sangat berkaitan dengan data sequence atau data kolektif. Mungkin kalau dibandingkan dengan bahasa lain, for pada python lebih dikenal sebagai foreach. Perhatikan contoh berikut:\n"
      ],
      "metadata": {
        "id": "OeqrRuXnFreV"
      }
    },
    {
      "cell_type": "code",
      "source": [
        "# for loop pada sequence type\n",
        "\n",
        "friendList = [\"Sutadi\", \"Andri\", \"Boy\", \"Bagus\", \"Widodo\"]\n",
        "for x in friendList:\n",
        "  print(x)\n"
      ],
      "metadata": {
        "id": "oFTt5Q2DwXoS",
        "colab": {
          "base_uri": "https://localhost:8080/"
        },
        "outputId": "b7db323e-adb4-425f-f83a-55641cb503ae"
      },
      "execution_count": null,
      "outputs": [
        {
          "output_type": "stream",
          "name": "stdout",
          "text": [
            "Sutadi\n",
            "Andri\n",
            "Boy\n",
            "Bagus\n",
            "Widodo\n"
          ]
        }
      ]
    },
    {
      "cell_type": "markdown",
      "source": [],
      "metadata": {
        "id": "JRPeh0dzDzsH"
      }
    },
    {
      "cell_type": "code",
      "source": [
        "# for loop pada string\n",
        "\n",
        "for x in \"Zaid\":\n",
        "  print(x)\n"
      ],
      "metadata": {
        "id": "U728bgPJxf7C",
        "colab": {
          "base_uri": "https://localhost:8080/"
        },
        "outputId": "136d1418-bc44-4d7d-d55f-72d61db90057"
      },
      "execution_count": null,
      "outputs": [
        {
          "output_type": "stream",
          "name": "stdout",
          "text": [
            "Z\n",
            "a\n",
            "i\n",
            "d\n"
          ]
        }
      ]
    },
    {
      "cell_type": "code",
      "source": [
        "# break keyword\n",
        "\n",
        "for x in friendList:\n",
        "  print(x)\n",
        "  if x == \"Bagus\":\n",
        "    print(\"Next? kita cut off dulu yaa\")\n",
        "    break"
      ],
      "metadata": {
        "id": "cYymBdgixqfm",
        "colab": {
          "base_uri": "https://localhost:8080/"
        },
        "outputId": "f4cd68c5-bee7-4493-89e7-a0f697069865"
      },
      "execution_count": null,
      "outputs": [
        {
          "output_type": "stream",
          "name": "stdout",
          "text": [
            "Sutadi\n",
            "Andri\n",
            "Boy\n",
            "Bagus\n",
            "Cut off dulu yaa\n"
          ]
        }
      ]
    },
    {
      "cell_type": "code",
      "source": [
        "# continue keyword\n",
        "\n",
        "for x in friendList:\n",
        "  if x == \"Boy\":\n",
        "    print(\"Yang satu ini kita skip yaa\")\n",
        "    continue\n",
        "  print(x)"
      ],
      "metadata": {
        "id": "hofXdzsVyMId",
        "colab": {
          "base_uri": "https://localhost:8080/"
        },
        "outputId": "27a78a6f-29db-4cdd-c17d-a068b2797c6e"
      },
      "execution_count": null,
      "outputs": [
        {
          "output_type": "stream",
          "name": "stdout",
          "text": [
            "Sutadi\n",
            "Andri\n",
            "Yang satu ini kita skip yaa\n",
            "Bagus\n",
            "Widodo\n"
          ]
        }
      ]
    },
    {
      "cell_type": "code",
      "source": [
        "# range dalam for loop\n",
        "\n",
        "for x in range(6):\n",
        "  print(\"Astagfirullah\")"
      ],
      "metadata": {
        "id": "zbgQJH56ym_0",
        "colab": {
          "base_uri": "https://localhost:8080/"
        },
        "outputId": "9673c821-7e34-4aba-d72f-5514f93c7637"
      },
      "execution_count": null,
      "outputs": [
        {
          "output_type": "stream",
          "name": "stdout",
          "text": [
            "Astagfirullah\n",
            "Astagfirullah\n",
            "Astagfirullah\n",
            "Astagfirullah\n",
            "Astagfirullah\n",
            "Astagfirullah\n"
          ]
        }
      ]
    },
    {
      "cell_type": "code",
      "source": [
        "# nested for\n",
        "\n",
        "for x in range(3):\n",
        "  for y in range(5):\n",
        "    print(y, end=\" \") # mencegah baris baru\n",
        "  print() # membuat baris baru"
      ],
      "metadata": {
        "id": "zEYpLtzfzwVq",
        "colab": {
          "base_uri": "https://localhost:8080/"
        },
        "outputId": "d2f05c09-dadf-4fae-ed6b-4969fb5ca005"
      },
      "execution_count": null,
      "outputs": [
        {
          "output_type": "stream",
          "name": "stdout",
          "text": [
            "0 1 2 3 4 \n",
            "0 1 2 3 4 \n",
            "0 1 2 3 4 \n"
          ]
        }
      ]
    },
    {
      "cell_type": "code",
      "source": [
        "# range 2 argumen\n",
        "for i in range(2, 6):\n",
        "    print(i)"
      ],
      "metadata": {
        "colab": {
          "base_uri": "https://localhost:8080/"
        },
        "id": "qG5wHbuGvaiw",
        "outputId": "b35de245-6af6-4b94-b8ae-430af78aaddc"
      },
      "execution_count": null,
      "outputs": [
        {
          "output_type": "stream",
          "name": "stdout",
          "text": [
            "2\n",
            "3\n",
            "4\n",
            "5\n"
          ]
        }
      ]
    },
    {
      "cell_type": "code",
      "source": [
        "# range 3 argumen\n",
        "for i in range(1, 10, 2):\n",
        "    print(i)"
      ],
      "metadata": {
        "id": "05ZALI0TveF3"
      },
      "execution_count": null,
      "outputs": []
    },
    {
      "cell_type": "markdown",
      "source": [
        "### 3.3.2 Perulangan While\n",
        "\n",
        "<p align=\"justify\">Pada python, while loop mirip dengan while loop yang ada pada bahasa pemrograman lainnya. Namun, tidak ada do-while dalam python. Tidak seperti for loop yang memiliki aturan khusus. While loop pada python cukup mudah dipahami. Kalian bisa mencoba langsung while loop pada python dengan menjalankan program dibawah ini.\n"
      ],
      "metadata": {
        "id": "4ybfGoTqFyDk"
      }
    },
    {
      "cell_type": "code",
      "source": [
        "i = 1\n",
        "\n",
        "while i < 6:\n",
        "  print(i)\n",
        "  i += 1"
      ],
      "metadata": {
        "id": "E8s6iL993jWk"
      },
      "execution_count": null,
      "outputs": []
    },
    {
      "cell_type": "markdown",
      "source": [
        "### 3.3.3 Fungsi Rekursif\n",
        "\n",
        "<p align=\"justify\">\n",
        "Fungsi rekursif adalah fungsi yang melakukan perulangan dengan mengacu pada dirinya sendiri. Dalam paradigma pemrograman fungsional, rekursi adalah cara penting untuk melakukan iterasi data, menggantikan penggunaan loop konvensional."
      ],
      "metadata": {
        "id": "XGqTFejzfMqV"
      }
    },
    {
      "cell_type": "code",
      "source": [
        "def factorial(n):\n",
        "    if n == 0:\n",
        "        return 1\n",
        "    else:\n",
        "        return n * factorial(n - 1)\n",
        "\n",
        "\n",
        "print(factorial(5))\n"
      ],
      "metadata": {
        "colab": {
          "base_uri": "https://localhost:8080/"
        },
        "id": "oN7vvvHegOXy",
        "outputId": "b8b2cb3e-8dfc-418c-942f-03c1fd406b9a"
      },
      "execution_count": null,
      "outputs": [
        {
          "output_type": "stream",
          "name": "stdout",
          "text": [
            "120\n"
          ]
        }
      ]
    },
    {
      "cell_type": "markdown",
      "source": [
        "<p align=\"justify\">\n",
        "Rekursi dalam paradigma fungsional mempromosikan penggunaan fungsi murni dan menghindari perubahan <b>keadaan (state)</b> yang tidak perlu. Fungsi murni adalah fungsi yang hasilnya hanya bergantung pada inputnya dan tidak mengubah variabel di luar fungsi tersebut. Terkait hal ini akan kita bahas lebih detil pada modul selanjutnya.\n"
      ],
      "metadata": {
        "id": "_Iiu1Z5mE7CA"
      }
    },
    {
      "cell_type": "markdown",
      "source": [
        "## 3.4 Function Dalam Python\n",
        "\n",
        "<p align=\"justify\"> Jika pada paradigma pemrograman sebelumnya (OOP-Java) kalian lebih familiar dengan istilah method, maka pada pemrograman fungsional dengan python kali ini kita akan banyak menggunakan function (ee, jangan salah, di python juga ada method kok, cek cek <a href=\"https://medium.com/@rismitawahyu/function-and-methods-in-python-fungsi-dan-metode-di-python-757204314517\">disini</a> untuk tau perbedaan keduanya). untuk tau perbedaan keduanya)\n",
        "\n",
        "\n",
        "<p align=\"justify\"> Python sendiri memiliki banyak built-in function, diantaranya yang sering kita gunakan, antara lain print() untuk mencetak objek, len() berfungsi mengembalikan (return) panjang suatu objek, type() berfungsi mengembalikan (return) tipe data dari suatu variabel, dan masih banyak lagi yang lainnya. Sedangkan untuk membuat suatu function, perlu didefinisikan dengan keyword “def”. Untuk lebih memahami mengenai function pada python, kalian dapat menjalankan program dibawah ini:"
      ],
      "metadata": {
        "id": "L1sTcMddJhk6"
      }
    },
    {
      "cell_type": "code",
      "source": [
        "def firstExample():\n",
        "    print(\"Hello it's me\")\n",
        "\n",
        "firstExample()\n",
        "\n",
        "# Output : Hello it's me\n",
        "\n",
        "def secondExample(name, hobbies):\n",
        "    print(\"Hi, iam \" + name + \" and my hobby is \" + hobbies)\n",
        "\n",
        "secondExample(\"Widodo\", \"Fishing\")\n",
        "\n",
        "# Output : Hi, iam Widodo and my hobby is Fishing"
      ],
      "metadata": {
        "id": "GSHGYA3pOFTB",
        "colab": {
          "base_uri": "https://localhost:8080/"
        },
        "outputId": "5e0fce59-b523-4a09-f0a9-22ab372e2eed"
      },
      "execution_count": null,
      "outputs": [
        {
          "output_type": "stream",
          "name": "stdout",
          "text": [
            "Hello it's me\n",
            "Hi, iam Widodo and my hobby is Fishing\n"
          ]
        }
      ]
    },
    {
      "cell_type": "markdown",
      "source": [
        "<p align=\"justify\"> Fungsi-fungsi diatas adalah deklarasi fungsi standar pada python. Meski kita sudah membangun program kita dalam satuan fungsi-fungsi, bukan berarti kita sudah mengimplementasikan paradigma fungsional. Seperti halnya fungsi-fungsi diatas, fungsi-fungsi tersebut belum memenuhi paradigma fungsional.\n",
        "\n",
        "<p align=\"justify\"> Seperti apakah fungsi dalam paradigma fungsional itu? Mari kita cek kembali materi topik 1 tentang definisi fungsi dalam paradigma fungsional:\n",
        "\n",
        " - Program dalam pemrograman fungsional dapat dianggap sebagai kumpulan **fungsi yang menerima input dan menghasilkan output** tanpa mempengaruhi keadaan (stateless) dan tidak memiliki efek samping apapun (pure function).\n",
        "\n",
        "<p align=\"justify\"> Kita bisa memperbaiki dan menyusun kode dengan pendekatan lebih fungsional untuk mencapai manfaat yang ditawarkan oleh paradigma fungsional. Bagaimana caranya? Pastikan fungsi yang kita bangun memenuhi standar berikut:\n",
        "\n",
        "1. Input: tambahkan parameter sebagai input data-data yang dibutuhkan oleh 2. fungsi.\n",
        "2. Output: tambahkan return value sebagai hasil keluaran dari fungsi.\n",
        "3. Pure: tidak memiliki efek samping berarti fungsi tidak mengakses atau mengubah variabel global atau data-data lain di luar fungsi.\n",
        "\n",
        "Dengan demikian, kita dapat menghasilkan program yang lebih elegan, mudah dipahami, dan mudah dikelola. Mari kita perbaiki dan susun ulang kode fungsi sebelumnya dengan pendekatan fungsional sebagai berikut: </p>\n",
        "\n"
      ],
      "metadata": {
        "id": "uRuKH0ylpBFV"
      }
    },
    {
      "cell_type": "code",
      "source": [
        "# deklarasi fungsi menggunakan parameter (reusability)\n",
        "def secondExample(name, hobbies):\n",
        "    # Menambahkan return sebagai output\n",
        "    return (\"Hi, iam \" + name + \" and my hobby is \" + hobbies)\n",
        "\n",
        "# Assign function ke dalam variabel\n",
        "callback = secondExample(\"Widodo\", \"Fishing\")\n",
        "\n",
        "\n",
        "print(callback)"
      ],
      "metadata": {
        "id": "GQLBGzdvOWTg"
      },
      "execution_count": null,
      "outputs": []
    },
    {
      "cell_type": "code",
      "source": [
        "def secondExample(name, hobbies):\n",
        "    return (\"Hi, iam \" + name + \" and my hobby is \" + hobbies)\n",
        "\n",
        "callback = secondExample(\"Widodo\", \"Fishing\")\n",
        "\n",
        "del secondExample\n",
        "\n",
        "print(callback)"
      ],
      "metadata": {
        "id": "jYCtMg8FXfIX",
        "colab": {
          "base_uri": "https://localhost:8080/"
        },
        "outputId": "cca546c5-4a9b-4a6f-b794-44138f2641c8"
      },
      "execution_count": null,
      "outputs": [
        {
          "output_type": "stream",
          "name": "stdout",
          "text": [
            "Hi, iam Widodo and my hobby is Fishing\n"
          ]
        }
      ]
    },
    {
      "cell_type": "markdown",
      "source": [
        "Kalian bisa melakukan hal yang sama untuk fungsi lainnya."
      ],
      "metadata": {
        "id": "Zot30JT4FVBq"
      }
    },
    {
      "cell_type": "code",
      "source": [
        "# Deklarasi fungsi sebagai ekspresi\n",
        "def multiply(a,b):\n",
        "    return a * b\n",
        "\n",
        "result = multiply(10,22)\n",
        "print(result)"
      ],
      "metadata": {
        "id": "p93nt37MbSY3"
      },
      "execution_count": null,
      "outputs": []
    },
    {
      "cell_type": "markdown",
      "source": [
        "## 3.5 Indentasi"
      ],
      "metadata": {
        "id": "B9yTD1NtqEjg"
      }
    },
    {
      "cell_type": "markdown",
      "source": [
        "<p align=\"justify\"> Indentasi dalam konteks pemrograman adalah pengaturan spasi di awal baris kode yang digunakan untuk menandai struktur dan hierarki blok kode (seperti awal dari sebuah paragraf). Dalam beberapa bahasa pemrograman, indentasi hanya digunakan untuk meningkatkan keterbacaan kode. Namun, dalam Python, indentasi memiliki peran yang sangat penting karena digunakan untuk mendefinisikan blok kode, seperti di dalam fungsi, loop, kondisi, dan lain-lain. Tidak seperti banyak bahasa pemrograman lainnya yang menggunakan tanda kurung kurawal {} untuk menandai blok kode, Python menggunakan indentasi untuk tujuan ini.\n",
        "\n",
        "<p align=\"justify\">\n",
        "Intinya, di dalam python kita tidak bisa asal menggunakan ‘tab’ atau spasi untuk mengatur baris agar terlihat rapi justru dalam python indentasi atau spasi digunakan untuk menentukan scope dan jangkauan code. Jadi dalam python kitak tidak menggunakan kurung kurawal dalam membatasi scope. Lebih jauh akan dibahas di collab.\n"
      ],
      "metadata": {
        "id": "02vIzR2AqJYx"
      }
    },
    {
      "cell_type": "markdown",
      "source": [
        "# Codelab!"
      ],
      "metadata": {
        "id": "q6dXw6b5JnpY"
      }
    },
    {
      "cell_type": "markdown",
      "source": [
        "### Codelab 1\n",
        "\n"
      ],
      "metadata": {
        "id": "_eVM8Iazy9uy"
      }
    },
    {
      "cell_type": "markdown",
      "source": [
        "pisahkan antara nilai int, float, dan string dengan ketentuan :\n",
        "\n",
        "1. Data float disimpan dalam bentuk tuple\n",
        "\n",
        "2. Data string disimpan ke dalam list\n",
        "\n",
        "3. Data int disimpan dalam dictionary sebagai key\n",
        "\n",
        "Kemudian tampilkan hasil nya seperti pada contoh.\n"
      ],
      "metadata": {
        "id": "8_SczgDazFiu"
      }
    },
    {
      "cell_type": "code",
      "source": [
        "dataDict = {}\n",
        "dataList = []\n",
        "dataTuple = []\n",
        "\n",
        "random_list = [900, 3.1, 3078, \"Hello\", 737, \"Python\", 2.7, 2002, 50,\n",
        "               \"Tech Winter\", 7.566, 40, 1, \"Is\", 60.5, \"Better\", 1000.1,\n",
        "               4, \"world\", 412, 5.5, \"AI\", 99.234, 12000]\n",
        "\n",
        "for data in random_list:\n",
        "    if isinstance(data, float):\n",
        "        dataTuple.append(data)\n",
        "    elif isinstance(data, str):\n",
        "        dataList.append(data)\n",
        "    elif isinstance(data, int):\n",
        "        if data < 10:\n",
        "            dataDict[data] = 'satuan'\n",
        "        elif data < 100:\n",
        "            dataDict[data] = 'puluhan'\n",
        "        elif data < 1000:\n",
        "            dataDict[data] = 'ratusan'\n",
        "        else:\n",
        "            dataDict[data] = 'ribuan'\n",
        "\n",
        "for key, value in dataDict.items():\n",
        "    print(f\"{key} = {value}\")\n",
        "\n",
        "print(\"string data list = \", dataList)\n",
        "print(\"data tuple = \", tuple(dataTuple))\n"
      ],
      "metadata": {
        "id": "yeSZ1m_dqPTA",
        "colab": {
          "base_uri": "https://localhost:8080/"
        },
        "outputId": "1786e008-1828-400a-e45d-4d3ba59a0870"
      },
      "execution_count": 2,
      "outputs": [
        {
          "output_type": "stream",
          "name": "stdout",
          "text": [
            "900 = ratusan\n",
            "3078 = ribuan\n",
            "737 = ratusan\n",
            "2002 = ribuan\n",
            "50 = puluhan\n",
            "40 = puluhan\n",
            "1 = satuan\n",
            "4 = satuan\n",
            "412 = ratusan\n",
            "12000 = ribuan\n",
            "string data list =  ['Hello', 'Python', 'Tech Winter', 'Is', 'Better', 'world', 'AI']\n",
            "data tuple =  (3.1, 2.7, 7.566, 60.5, 1000.1, 5.5, 99.234)\n"
          ]
        }
      ]
    },
    {
      "cell_type": "markdown",
      "source": [
        "### Codelab 2"
      ],
      "metadata": {
        "id": "pQL2KOJ_0MPa"
      }
    },
    {
      "cell_type": "markdown",
      "source": [
        "1. Buatlah sebuah program untuk memisahkan data input user menjadi bilangan genap dan ganjil.\n",
        "2. Data input dipisah dengan spasi, data genap akan dimasukkan ke dalam list dan data ganjil akan dimasukkan ke dalam tuple. (Gunakan casting untuk menyamakan tipe data)\n",
        "3. Tampilkan hasil yang telah dibuat."
      ],
      "metadata": {
        "id": "MO0vf_R6ueP-"
      }
    },
    {
      "cell_type": "markdown",
      "source": [
        "Lengkapi potongan code di bawah ini agar bisa memisahkan bilangan ganjil dan genap. Jangan lupa gunakan casting."
      ],
      "metadata": {
        "id": "cPevJ8eV4nkN"
      }
    },
    {
      "cell_type": "code",
      "source": [
        "def pisahkan_genap_ganjil(input_bilangan):\n",
        "    # Tulis kode dibawah\n",
        "    list_genap = []\n",
        "    list_ganjil = []\n",
        "\n",
        "    # Memisahkan bilangan dan mengelompokkan ke genap atau ganjil\n",
        "    for x in input_bilangan.split():\n",
        "        angka = int(x)\n",
        "        if angka % 2 == 0:\n",
        "            list_genap.append(angka)\n",
        "        else:\n",
        "            list_ganjil.append(angka)\n",
        "\n",
        "\n",
        "    tuple_ganjil = tuple(list_ganjil)\n",
        "\n",
        "    return list_genap, tuple_ganjil\n",
        "\n",
        "# Meminta pengguna memasukkan bilangan yang dipisahkan oleh spasi\n",
        "input_bilangan = input(\"Masukkan beberapa bilangan yang dipisahkan oleh spasi: \")\n",
        "\n",
        "# Memanggil fungsi untuk memisahkan bilangan genap dan ganjil\n",
        "result_genap, result_ganjil = pisahkan_genap_ganjil(input_bilangan)\n",
        "\n",
        "print(\"hasil genap : \", result_genap)\n",
        "print(\"hasil ganjil : \", result_ganjil)\n"
      ],
      "metadata": {
        "colab": {
          "base_uri": "https://localhost:8080/"
        },
        "id": "58q0LCxOia-P",
        "outputId": "e193a8c6-d8f3-4fe4-d7eb-d71d601cf313"
      },
      "execution_count": 3,
      "outputs": [
        {
          "output_type": "stream",
          "name": "stdout",
          "text": [
            "Masukkan beberapa bilangan yang dipisahkan oleh spasi: 2 2 3 4 8 11 4\n",
            "hasil genap :  [2, 2, 4, 8, 4]\n",
            "hasil ganjil :  (3, 11)\n"
          ]
        }
      ]
    },
    {
      "cell_type": "markdown",
      "source": [
        "### Codelab 3"
      ],
      "metadata": {
        "id": "88zGAnLgBXvK"
      }
    },
    {
      "cell_type": "markdown",
      "source": [
        "1. Buatlah sebuah kamus (dictionary) yang menyimpan data nilai untuk 5 mahasiswa dengan 3 mata kuliah berbeda.\n",
        "2. Buatlah fungsi untuk menghitung rata-rata nilai setiap mahasiswa.\n",
        "3. Buatlah fungsi untuk menghitung rata-rata nilai seluruh mahasiswa.\n"
      ],
      "metadata": {
        "id": "z1NcegNaL7Z3"
      }
    },
    {
      "cell_type": "code",
      "source": [
        "# TO_DO 1: Kamus (dictionary) nilai mahasiswa\n",
        "nilai_mahasiswa = {\n",
        "    \"Mahasiswa1\": {\"Matematika\": 80, \"Fisika\": 75, \"Kimia\": 85},\n",
        "    \"Mahasiswa2\": {\"Matematika\": 90, \"Fisika\": 88, \"Kimia\": 92},\n",
        "    \"Mahasiswa3\": {\"Matematika\": 70, \"Fisika\": 65, \"Kimia\": 78},\n",
        "    \"Mahasiswa4\": {\"Matematika\": 85, \"Fisika\": 80, \"Kimia\": 89},\n",
        "    \"Mahasiswa5\": {\"Matematika\": 60, \"Fisika\": 75, \"Kimia\": 70}\n",
        "}\n",
        "\n",
        "# TO_DO 2: Fungsi untuk menghitung rata-rata nilai setiap mahasiswa\n",
        "def each_average(nilai_mahasiswa):\n",
        "    rata_rata_mahasiswa = {}\n",
        "    for mahasiswa, nilai in nilai_mahasiswa.items():\n",
        "        rata_rata = sum(nilai.values()) / len(nilai)\n",
        "        rata_rata_mahasiswa[mahasiswa] = rata_rata\n",
        "    return rata_rata_mahasiswa\n",
        "\n",
        "# TO_DO 3: Fungsi untuk menghitung rata-rata nilai seluruh mahasiswa\n",
        "def all_average(nilai_mahasiswa):\n",
        "    total_nilai = 0\n",
        "    total_mata_kuliah = 0\n",
        "    for nilai in nilai_mahasiswa.values():\n",
        "        total_nilai += sum(nilai.values())\n",
        "        total_mata_kuliah += len(nilai)\n",
        "    return total_nilai / total_mata_kuliah\n",
        "\n",
        "# Panggil fungsi dan tampilkan hasilnya\n",
        "rata_rata_mahasiswa = each_average(nilai_mahasiswa)\n",
        "rata_rata_keseluruhan = all_average(nilai_mahasiswa)\n",
        "\n",
        "print(\"Rata-rata nilai setiap mahasiswa:\")\n",
        "for mahasiswa, rata_rata in rata_rata_mahasiswa.items():\n",
        "    print(f\"{mahasiswa}: {rata_rata:.2f}\")\n",
        "\n",
        "print(\"\\nRata-rata nilai seluruh mahasiswa: {:.2f}\".format(rata_rata_keseluruhan))\n"
      ],
      "metadata": {
        "id": "be8WHYYX_mre",
        "colab": {
          "base_uri": "https://localhost:8080/"
        },
        "outputId": "5167822a-ab16-4878-d1c5-3e54b6f9bc14"
      },
      "execution_count": 4,
      "outputs": [
        {
          "output_type": "stream",
          "name": "stdout",
          "text": [
            "Rata-rata nilai setiap mahasiswa:\n",
            "Mahasiswa1: 80.00\n",
            "Mahasiswa2: 90.00\n",
            "Mahasiswa3: 71.00\n",
            "Mahasiswa4: 84.67\n",
            "Mahasiswa5: 68.33\n",
            "\n",
            "Rata-rata nilai seluruh mahasiswa: 78.80\n"
          ]
        }
      ]
    },
    {
      "cell_type": "markdown",
      "source": [
        "# Tugas"
      ],
      "metadata": {
        "id": "_Gmqg6YWu_DQ"
      }
    },
    {
      "cell_type": "markdown",
      "source": [
        "## SOAL A (INTERMEDIATE)"
      ],
      "metadata": {
        "id": "wrRoujzRtA4A"
      }
    },
    {
      "cell_type": "markdown",
      "source": [
        "Buatlah sebuah CRUD sederhana dengan requirements berikut :\n",
        "1. Register\n",
        "  - User bisa register menggunakan NIM dan passwordnya\n",
        "  - Ketika berhasil register maka data user yang baru sudah tersimpan (bisa login) beserta data profil\n",
        "2. Login\n",
        "  - User yang sudah register bisa melakukan login\n",
        "3. User Menu\n",
        "  - Hanya mampu melihat profilnya dan datanya sendiri\n",
        "  - User bisa menambahkan data profil yang sebelumnya di skip atau list temannya\n",
        "  - User bisa mengedit data profilnya sendiri atau list temannya\n",
        "  - User bisa menghapus data profil atau list temannya\n",
        "4. Menerapkan konsep dictionary dan list untuk menyimpan data.\n",
        "  - Pastikan bahwa key dari setiap dictionary berkaitan sesuai dengan data dari akun masing2, misal : akun dengan nim 402 hanya bisa mengakses dictionary profile dan friendlist dari 402)\n",
        "5. Contoh penyimpanan data :\n",
        "  \n"
      ],
      "metadata": {
        "id": "Zse2nwOptIWT"
      }
    },
    {
      "cell_type": "code",
      "source": [
        "account = {'yourNIM':'yourPassword'}\n",
        "profil = {'yourNIM':{'name':'ucup','role':'user','email':'example@mail.com'}}\n",
        "friends = {'yourNIM':['teman1','teman2']}"
      ],
      "metadata": {
        "id": "HGGga1tH4-qe"
      },
      "execution_count": null,
      "outputs": []
    },
    {
      "cell_type": "markdown",
      "source": [
        "disclaimer : di bawah ini hanya contoh saja, kamu bisa membuat yang lebih dari contoh di bawah, selama tidak kurang/downgrade dari contoh."
      ],
      "metadata": {
        "id": "PYNW__l3xiA4"
      }
    },
    {
      "cell_type": "markdown",
      "source": [
        "## SOAL B (ADVANCED)\n"
      ],
      "metadata": {
        "id": "wVjEAxhlxj6K"
      }
    },
    {
      "cell_type": "markdown",
      "source": [
        "**Requirements**\n",
        "\n",
        "| NO  | Requirements | Description                                                                                                                                      |\n",
        "|-----|--------------|--------------------------------------------------------------------------------------------------------------------------------------------------|\n",
        "| 1.  | Main Duty    | - Kembangkanlah tugas soal A untuk membuat sebuah CRUD dengan tema bebas (usahakan untuk tidak duplikat agar memudahkan penilaian)                           |\n",
        "| 2.  | Struktur Data       | - Menggunakan 3 tipe data yaitu tuple, list dan dictionary (wajib). Mekanisme dan bentuk struktur data dibebaskan. Setiap 3 jenis tipe data (list, tuple, dictionary) diwajibkan untuk bisa melakukan CRUD                                                                                                                        |\n",
        "| 3. | Login| - Menggunakan fitur login dengan akun dan struktur data yang sama seperti soal A yaitu NIM dan Password dimana NIM ini akan dijadikan key untuk mengaitkan dengan struktur data yang lain (misal data peminjaman atau pembelian) |\n",
        "| 4. | Keterkaitan key | - Semisal di dalam struktur data kalian terdapat akun dan reservasi maka di dalam data reservasi terdapat detail id/siapa yang memesan (akun mana yang memesan) |\n",
        "| 5. | Validasi dan verifikasi | - Buat code kalian clean dan tidak mudah ter-executed ketika salah input atau error lainnya |\n",
        "| 6. | Kreatif | - Kreatifitas dalam program maupun konsep merupakan keharusan sebagai ciri khas pribadi (agar program tidak identik). |\n",
        "\n",
        "\n",
        "\n",
        "\n",
        "\n",
        "\n",
        "\n",
        "\n"
      ],
      "metadata": {
        "id": "qnzdgzvsxqHr"
      }
    },
    {
      "cell_type": "markdown",
      "source": [
        "# Rubrik Penilaian"
      ],
      "metadata": {
        "id": "EiY772Tj_u28"
      }
    },
    {
      "cell_type": "markdown",
      "source": [
        "\n",
        "| Codelab |  |  \n",
        "|---------|---------|\n",
        "| Codelab 1  | 5  |\n",
        "| Codelab 2  | 5  |\n",
        "| Codelab 3 | 5  |\n",
        "| Total  | 15  |\n",
        "\n",
        "\n",
        "\n"
      ],
      "metadata": {
        "id": "1Hrxm8gRGSCK"
      }
    },
    {
      "cell_type": "markdown",
      "source": [
        "| Tugas A (Intermediate) |  |  \n",
        "|---------|---------|\n",
        "| Pemahaman | 50 |\n",
        "| Code/Kelengkapan Fitur  | 15  |\n",
        "| Total  | 65  |"
      ],
      "metadata": {
        "id": "8eYDeBBOHDHf"
      }
    },
    {
      "cell_type": "markdown",
      "source": [
        "| Tugas B (Advanced) |  |  \n",
        "|---------|---------|\n",
        "| Pemahaman | 60 |\n",
        "| Code/Kelengkapan Fitur  | 25  |\n",
        "| Total  | 85  |"
      ],
      "metadata": {
        "id": "4Y-OHeNkHgIh"
      }
    },
    {
      "cell_type": "markdown",
      "source": [
        "\\*)Note: Program Identik berarti program sama persis dengan praktikan lain sehingga yang dinilai hanya pemahaman terhadap materi (code tidak mendapat bobot nilai sama sekali).\n",
        "\n",
        "\\**)Poin diatas merupakan poin maksimal yang bisa diperoleh. Asisten bisa memberikan nilai dibawah itu jika dirasa praktikan tidak maksimal saat demo (kurangnya pemahaman tentang apa yang di demokan).\n",
        "\n",
        "> Detail lengkap penilaian silahkan mengacu pada dokumen modul (pdf)\n"
      ],
      "metadata": {
        "id": "7jMed27aFFQu"
      }
    }
  ]
}